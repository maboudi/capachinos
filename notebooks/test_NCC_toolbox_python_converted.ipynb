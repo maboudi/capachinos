{
 "cells": [
  {
   "cell_type": "markdown",
   "metadata": {},
   "source": [
    "##### Import NCC toolbox converted to Python"
   ]
  },
  {
   "cell_type": "code",
   "execution_count": 1,
   "metadata": {},
   "outputs": [],
   "source": [
    "import numpy as np\n",
    "from src.eeg_analysis.utils.NCC_converted_toolbox import gendata, pldist, plmle, plparams, plplottool"
   ]
  },
  {
   "cell_type": "markdown",
   "metadata": {},
   "source": [
    "##### Generate a sample power law distribution"
   ]
  },
  {
   "cell_type": "code",
   "execution_count": 9,
   "metadata": {},
   "outputs": [
    {
     "name": "stdout",
     "output_type": "stream",
     "text": [
      "[  2.   2.   2. ... 120. 120. 120.]\n"
     ]
    }
   ],
   "source": [
    "tau = 2.0\n",
    "lambda_ = 0.1\n",
    "xmin = 20\n",
    "xmax = 90\n",
    "\n",
    "generated_data, xVals, pdf = gendata(100000, ['truncated_powerlaw', [tau, lambda_, xmin, xmax]], 'inf', 2, 'sup', 120 )\n",
    "print(generated_data)  # Generate 10000 samples from a discrete power-law with exponent 1.5"
   ]
  },
  {
   "cell_type": "code",
   "execution_count": 10,
   "metadata": {},
   "outputs": [
    {
     "data": {
      "image/png": "[encoded data removed]",
      "text/plain": [
       "<Figure size 640x480 with 1 Axes>"
      ]
     },
     "metadata": {},
     "output_type": "display_data"
    },
    {
     "data": {
      "text/plain": [
       "{'x': [(array([  2.5,   3.5,   4.5,   5.5,   6.5,   7.5,   8.5,   9.5,  10.5,\n",
       "           11.5,  12.5,  13.5,  14.5,  15.5,  16.5,  17.5,  18.5,  19.5,\n",
       "           20.5,  21.5,  22.5,  23.5,  24.5,  25.5,  26.5,  27.5,  28.5,\n",
       "           29.5,  30.5,  31.5,  32.5,  33.5,  34.5,  35.5,  36.5,  37.5,\n",
       "           38.5,  39.5,  40.5,  41.5,  42.5,  43.5,  44.5,  45.5,  46.5,\n",
       "           47.5,  48.5,  49.5,  50.5,  51.5,  52.5,  53.5,  54.5,  55.5,\n",
       "           56.5,  57.5,  58.5,  59.5,  60.5,  61.5,  62.5,  63.5,  64.5,\n",
       "           65.5,  66.5,  67.5,  68.5,  69.5,  70.5,  71.5,  72.5,  73.5,\n",
       "           74.5,  75.5,  76.5,  77.5,  78.5,  79.5,  80.5,  81.5,  82.5,\n",
       "           83.5,  84.5,  85.5,  86.5,  87.5,  88.5,  89.5,  90.5,  91.5,\n",
       "           92.5,  93.5,  94.5,  95.5,  96.5,  97.5,  98.5,  99.5, 100.5,\n",
       "          101.5, 102.5, 103.5, 104.5, 105.5, 106.5, 107.5, 108.5, 109.5,\n",
       "          110.5, 111.5, 112.5, 113.5, 114.5, 115.5, 116.5, 117.5, 118.5,\n",
       "          119.5]),\n",
       "   array([8.672e-02, 7.927e-02, 7.243e-02, 6.459e-02, 5.816e-02, 5.314e-02,\n",
       "          4.758e-02, 4.297e-02, 3.851e-02, 3.503e-02, 3.174e-02, 2.899e-02,\n",
       "          2.622e-02, 2.349e-02, 2.198e-02, 1.950e-02, 1.706e-02, 1.614e-02,\n",
       "          1.407e-02, 1.294e-02, 1.159e-02, 1.065e-02, 9.980e-03, 9.490e-03,\n",
       "          8.680e-03, 7.350e-03, 7.310e-03, 6.890e-03, 6.730e-03, 5.760e-03,\n",
       "          5.580e-03, 5.280e-03, 4.800e-03, 4.520e-03, 4.710e-03, 4.460e-03,\n",
       "          3.860e-03, 3.650e-03, 3.720e-03, 3.530e-03, 3.320e-03, 3.090e-03,\n",
       "          2.810e-03, 2.740e-03, 2.620e-03, 2.800e-03, 2.330e-03, 2.580e-03,\n",
       "          2.490e-03, 2.170e-03, 2.380e-03, 2.110e-03, 1.960e-03, 1.890e-03,\n",
       "          2.050e-03, 1.910e-03, 1.740e-03, 1.680e-03, 1.620e-03, 1.400e-03,\n",
       "          1.560e-03, 1.260e-03, 1.610e-03, 1.270e-03, 1.130e-03, 1.210e-03,\n",
       "          1.170e-03, 1.000e-03, 1.150e-03, 1.060e-03, 9.500e-04, 1.030e-03,\n",
       "          1.020e-03, 9.000e-04, 1.000e-03, 9.400e-04, 1.030e-03, 8.400e-04,\n",
       "          8.500e-04, 8.500e-04, 7.700e-04, 7.900e-04, 8.700e-04, 7.200e-04,\n",
       "          6.700e-04, 8.800e-04, 7.700e-04, 6.900e-04, 6.500e-04, 6.600e-04,\n",
       "          6.700e-04, 4.900e-04, 5.100e-04, 3.700e-04, 4.400e-04, 2.700e-04,\n",
       "          3.100e-04, 2.900e-04, 2.700e-04, 2.500e-04, 2.100e-04, 2.100e-04,\n",
       "          2.400e-04, 1.300e-04, 1.700e-04, 8.000e-05, 1.100e-04, 4.000e-05,\n",
       "          1.500e-04, 1.300e-04, 1.000e-04, 7.000e-05, 1.100e-04, 7.000e-05,\n",
       "          8.000e-05, 6.000e-05, 3.000e-05, 8.000e-05]))],\n",
       " 'fit': [(array([20.5, 21.5, 22.5, 23.5, 24.5, 25.5, 26.5, 27.5, 28.5, 29.5, 30.5,\n",
       "          31.5, 32.5, 33.5, 34.5, 35.5, 36.5, 37.5, 38.5, 39.5, 40.5, 41.5,\n",
       "          42.5, 43.5, 44.5, 45.5, 46.5, 47.5, 48.5, 49.5, 50.5, 51.5, 52.5,\n",
       "          53.5, 54.5, 55.5, 56.5, 57.5, 58.5, 59.5, 60.5, 61.5, 62.5, 63.5,\n",
       "          64.5, 65.5, 66.5, 67.5, 68.5, 69.5, 70.5, 71.5, 72.5, 73.5, 74.5,\n",
       "          75.5, 76.5, 77.5, 78.5, 79.5, 80.5, 81.5, 82.5, 83.5, 84.5, 85.5,\n",
       "          86.5, 87.5, 88.5, 89.5]),\n",
       "   array([0.01407429, 0.01279481, 0.01168221, 0.0107087 , 0.009852  ,\n",
       "          0.00909415, 0.00842051, 0.00781905, 0.0072798 , 0.00679448,\n",
       "          0.00635613, 0.00595887, 0.00559773, 0.00526845, 0.00496739,\n",
       "          0.00469143, 0.00443784, 0.00420427, 0.00398866, 0.00378923,\n",
       "          0.00360439, 0.00343275, 0.00327309, 0.00312431, 0.00298545,\n",
       "          0.00285565, 0.00273414, 0.00262021, 0.00251327, 0.00241273,\n",
       "          0.00231812, 0.00222896, 0.00214485, 0.00206541, 0.0019903 ,\n",
       "          0.00191922, 0.00185188, 0.00178802, 0.00172741, 0.00166983,\n",
       "          0.00161508, 0.00156298, 0.00151336, 0.00146607, 0.00142096,\n",
       "          0.0013779 , 0.00133677, 0.00129745, 0.00125985, 0.00122385,\n",
       "          0.00118938, 0.00115634, 0.00112466, 0.00109426, 0.00106508,\n",
       "          0.00103705, 0.00101012, 0.00098422, 0.0009593 , 0.00093532,\n",
       "          0.00091222, 0.00088997, 0.00086853, 0.00084785, 0.0008279 ,\n",
       "          0.00080865, 0.00079006, 0.0007721 , 0.00075475, 0.00073798]))]}"
      ]
     },
     "execution_count": 10,
     "metadata": {},
     "output_type": "execute_result"
    }
   ],
   "source": [
    "# Plot the data using plplottool\n",
    "fitParams = {\n",
    "    'tau':[2.0], \n",
    "    'color': [[1, 0, 0], [0, 1, 0], [0, 0, 1], [0, 0, 0]],\n",
    "    'linewidth': 1,\n",
    "    'linestyle': '--',\n",
    "    'dot': 'off',\n",
    "    'dotsize': 5,\n",
    "    'x2fit': [0],\n",
    "    'xmin': [xmin],\n",
    "    'xmax': [xmax]}\n",
    "\n",
    "plplottool(generated_data, 'fitParams', fitParams)"
   ]
  },
  {
   "cell_type": "markdown",
   "metadata": {},
   "source": [
    "##### Test the pldist fucntion for generating power-law distributed data"
   ]
  },
  {
   "cell_type": "code",
   "execution_count": null,
   "metadata": {},
   "outputs": [],
   "source": [
    "# x_min = 2\n",
    "# x_max = 100\n",
    "# slope = 1.5\n",
    "\n",
    "# # Generate a double truncated power-law distributed data \n",
    "# generated_data = pldist(1000, 'slope', slope, 'double', x_min, x_max, 'plot')"
   ]
  },
  {
   "cell_type": "markdown",
   "metadata": {},
   "source": [
    "##### Estimate the power law slope/exponent) using Maximum Likelihood Estimation (MLE)"
   ]
  },
  {
   "cell_type": "code",
   "execution_count": null,
   "metadata": {},
   "outputs": [],
   "source": [
    "tau, x_min, x_max, L = plmle(generated_data, 'xmin', xmin, 'xmax', xmax) \n",
    "print(f'tau: {tau}, x_min: {x_min}, x_max: {x_max}, Likelihood: {L}')"
   ]
  },
  {
   "cell_type": "code",
   "execution_count": null,
   "metadata": {},
   "outputs": [],
   "source": [
    "# Trying to fit a non-truncated power-law distribution to the truncated data\n",
    "tau, x_min, x_max, L = plmle(generated_data) \n",
    "print(f'tau: {tau}, x_min: {x_min}, x_max: {x_max}, Likelihood: {L}')"
   ]
  },
  {
   "cell_type": "markdown",
   "metadata": {},
   "source": [
    "##### Estimating the parameters of truncated power law distribution fit using plparams  "
   ]
  },
  {
   "cell_type": "code",
   "execution_count": null,
   "metadata": {},
   "outputs": [],
   "source": [
    "num_samples = 200\n",
    "tau, xmin, xmax, sigma, p, pCrit, ks = plparams(generated_data, 'samples', num_samples)\n",
    "print(f'tau: {tau}, xmin: {xmin}, xmax: {xmax}, sigmaTau: {sigma}, p-value: {p}, critical p-value: {pCrit}, KS statistic: {ks}')"
   ]
  }
 ],
 "metadata": {
  "kernelspec": {
   "display_name": "capachinos_env",
   "language": "python",
   "name": "python3"
  },
  "language_info": {
   "codemirror_mode": {
    "name": "ipython",
    "version": 3
   },
   "file_extension": ".py",
   "mimetype": "text/x-python",
   "name": "python",
   "nbconvert_exporter": "python",
   "pygments_lexer": "ipython3",
   "version": "3.12.3"
  }
 },
 "nbformat": 4,
 "nbformat_minor": 2
}
