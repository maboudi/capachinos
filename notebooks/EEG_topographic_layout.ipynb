{
 "cells": [
  {
   "cell_type": "code",
   "execution_count": 20,
   "id": "b0d3e423",
   "metadata": {},
   "outputs": [
    {
     "name": "stdout",
     "output_type": "stream",
     "text": [
      "1.9.0 c:\\Users\\Kourosh\\.conda\\envs\\capachinos_env\\python.exe\n"
     ]
    }
   ],
   "source": [
    "import mne, sys\n",
    "from src.eeg_analysis.visualization.my_custom_style import set_custom_style\n",
    "\n",
    "print(mne.__version__, sys.executable)\n"
   ]
  },
  {
   "cell_type": "code",
   "execution_count": 27,
   "id": "1b03ee91",
   "metadata": {},
   "outputs": [
    {
     "name": "stdout",
     "output_type": "stream",
     "text": [
      "Creating RawArray with float64 data, n_channels=16, n_times=15360\n",
      "    Range : 0 ... 15359 =      0.000 ...    59.996 secs\n",
      "Ready.\n",
      "<RawArray | 16 x 15360 (60.0 s), ~1.9 MiB, data loaded>\n"
     ]
    },
    {
     "data": {
      "image/png": "[encoded data removed]",
      "text/plain": [
       "<Figure size 277.778x277.778 with 1 Axes>"
      ]
     },
     "metadata": {},
     "output_type": "display_data"
    }
   ],
   "source": [
    "import numpy as np\n",
    "import mne\n",
    "import matplotlib.pyplot as plt\n",
    "import os\n",
    "\n",
    "# ------------------------------------------------------------------\n",
    "# 1) your channel layout\n",
    "# ------------------------------------------------------------------\n",
    "channels_by_region = {\n",
    "    \"prefrontal\": [\"Fp1\", \"Fp2\", \"AFz\"],\n",
    "    \"frontal\":    [\"F5\", \"F6\", \"Fz\"],\n",
    "    \"central\":    [\"C3\", \"C4\", \"Cz\"],\n",
    "    \"temporal\":   [\"T7\", \"T8\"],\n",
    "    \"parietal\":   [\"P5\", \"P6\", \"Pz\"],\n",
    "    \"occipital\":  [\"O1\", \"O2\"],\n",
    "}\n",
    "ch_names = sum(channels_by_region.values(), [])      # flatten to one list\n",
    "ch_types = [\"eeg\"] * len(ch_names)\n",
    "\n",
    "# ------------------------------------------------------------------\n",
    "# 2) fabricate white-noise data (1 minute @ 256 Hz, ~µV amplitude)\n",
    "# ------------------------------------------------------------------\n",
    "sfreq    = 256          # Hz\n",
    "duration = 60           # seconds\n",
    "n_samples = sfreq * duration\n",
    "\n",
    "rng   = np.random.default_rng(42)          # reproducible\n",
    "data  = rng.standard_normal((len(ch_names), n_samples)) * 1e-6  # volts\n",
    "\n",
    "# ------------------------------------------------------------------\n",
    "# 3) build RawArray and add sensor positions\n",
    "# ------------------------------------------------------------------\n",
    "info = mne.create_info(ch_names, sfreq, ch_types)\n",
    "raw  = mne.io.RawArray(data, info)\n",
    "\n",
    "# use 10-20 / 10-10 coordinates; switch to 'standard_1010' if you need F5 /F6 /P5 /P6\n",
    "montage = mne.channels.make_standard_montage(\"easycap-M1\")   # or \"standard_1020\"\n",
    "raw.set_montage(montage, on_missing=\"warn\")   # warns if a name lacks coordinates\n",
    "\n",
    "print(raw)                                    # check everything looks right\n",
    "\n",
    "# ------------------------------------------------------------------\n",
    "# 4) visualise \n",
    "# ------------------------------------------------------------------\n",
    "\n",
    "set_custom_style()\n",
    "\n",
    "plot_width, plot_height = 200, 200\n",
    "fig, ax = plt.subplots(1, 1, figsize=(plot_width/72, plot_height/72))\n",
    "\n",
    "mne.viz.plot_sensors(\n",
    "    raw.info,\n",
    "    kind=\"topomap\",\n",
    "    show_names={\"fontsize\": 20}, \n",
    "    pointsize = 10,\n",
    "    axes=ax,\n",
    "    show=False   \n",
    "    # sphere=0.11\n",
    ")\n",
    "\n",
    "main_dir = 'D:/Anesthesia_Research_Fellow/analysis_results'\n",
    "filename = 'topomap.pdf'\n",
    "file_path = os.path.join(main_dir, filename)\n",
    "\n",
    "plt.savefig(file_path, format='pdf', dpi=300)\n",
    "\n",
    "plt.show() "
   ]
  }
 ],
 "metadata": {
  "kernelspec": {
   "display_name": "capachinos_env",
   "language": "python",
   "name": "python3"
  },
  "language_info": {
   "codemirror_mode": {
    "name": "ipython",
    "version": 3
   },
   "file_extension": ".py",
   "mimetype": "text/x-python",
   "name": "python",
   "nbconvert_exporter": "python",
   "pygments_lexer": "ipython3",
   "version": "3.12.3"
  }
 },
 "nbformat": 4,
 "nbformat_minor": 5
}
